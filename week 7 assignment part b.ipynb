{
 "cells": [
  {
   "cell_type": "code",
   "execution_count": 73,
   "metadata": {
    "scrolled": true
   },
   "outputs": [],
   "source": [
    "import pandas as pd\n",
    "\n"
   ]
  },
  {
   "cell_type": "code",
   "execution_count": 74,
   "metadata": {},
   "outputs": [],
   "source": [
    "df = pd.read_excel(\"C:/Users/Envy 360/Downloads/AGN02.xls\")"
   ]
  },
  {
   "cell_type": "code",
   "execution_count": 75,
   "metadata": {},
   "outputs": [
    {
     "data": {
      "text/plain": [
       "<bound method NDFrame.head of             Areaname  STCOU  AGN640207F  AGN640207D  AGN640207N1  AGN640207N2  \\\n",
       "0      UNITED STATES      0           0      116286            0            0   \n",
       "1            ALABAMA   1000           0        2340            0            0   \n",
       "2        Autauga, AL   1001           0           4            0            0   \n",
       "3        Baldwin, AL   1003           0          35            0            0   \n",
       "4        Barbour, AL   1005           0          36            0            0   \n",
       "...              ...    ...         ...         ...          ...          ...   \n",
       "3193  Sweetwater, WY  56037           0           5            0            0   \n",
       "3194       Teton, WY  56039           0           2            0            0   \n",
       "3195       Uinta, WY  56041           0           5            0            0   \n",
       "3196    Washakie, WY  56043           0          16            0            0   \n",
       "3197      Weston, WY  56045           0           8            0            0   \n",
       "\n",
       "      AGN645197F  AGN645197D  AGN645197N1  AGN645197N2  ...  AGN736197N1  \\\n",
       "0              0       70408            0            0  ...            0   \n",
       "1              0        1904            0            0  ...            0   \n",
       "2              0           6            0            0  ...            0   \n",
       "3              0          27            0            0  ...            0   \n",
       "4              0          12            0            0  ...            0   \n",
       "...          ...         ...          ...          ...  ...          ...   \n",
       "3193           0           1            0            0  ...            0   \n",
       "3194           0           1            0            0  ...            0   \n",
       "3195           0           7            0            0  ...            0   \n",
       "3196           0          14            0            0  ...            0   \n",
       "3197           0           6            0            0  ...            0   \n",
       "\n",
       "      AGN736197N2  AGN738202F  AGN738202D  AGN738202N1  AGN738202N2  \\\n",
       "0               0           0      962200            0            0   \n",
       "1               0           0       20519            0            0   \n",
       "2               0           0         177            0            0   \n",
       "3               0           0         518            0            0   \n",
       "4               0           0         275            0            0   \n",
       "...           ...         ...         ...          ...          ...   \n",
       "3193            0           0          67            0            0   \n",
       "3194            0           0          46            0            0   \n",
       "3195            0           0         106            0            0   \n",
       "3196            0           0          84            0            0   \n",
       "3197            0           0         101            0            0   \n",
       "\n",
       "      AGN738207F  AGN738207D  AGN738207N1  AGN738207N2  \n",
       "0              0      777747            0            0  \n",
       "1              0       17262            0            0  \n",
       "2              0         127            0            0  \n",
       "3              0         442            0            0  \n",
       "4              0         270            0            0  \n",
       "...          ...         ...          ...          ...  \n",
       "3193           0          69            0            0  \n",
       "3194           0          53            0            0  \n",
       "3195           0         115            0            0  \n",
       "3196           0         102            0            0  \n",
       "3197           0          89            0            0  \n",
       "\n",
       "[3198 rows x 42 columns]>"
      ]
     },
     "execution_count": 75,
     "metadata": {},
     "output_type": "execute_result"
    }
   ],
   "source": [
    "df.head"
   ]
  },
  {
   "cell_type": "code",
   "execution_count": 77,
   "metadata": {},
   "outputs": [],
   "source": [
    "writer = pd.ExcelWriter('dataframe.xls', engine='xlsxwriter')\n",
    "df.to_excel(writer, sheet_name='mynewdata')\n",
    "writer.save()"
   ]
  },
  {
   "cell_type": "code",
   "execution_count": 71,
   "metadata": {},
   "outputs": [
    {
     "data": {
      "text/plain": [
       "<bound method NDFrame.head of    GEOID  SUMLEV  STATE  COUNTY  CBSA  CSA  NECTA  CNECTA     NAME   POP100  \\\n",
       "0      1      40      1     NaN   NaN  NaN    NaN     NaN  Alabama  4779736   \n",
       "\n",
       "     HU100  POP100.2000  HU100.2000  P001001  P001001.2000  \n",
       "0  2171853      4447100     1963711  4779736       4447100  >"
      ]
     },
     "execution_count": 71,
     "metadata": {},
     "output_type": "execute_result"
    }
   ],
   "source": [
    "df.head"
   ]
  },
  {
   "cell_type": "code",
   "execution_count": null,
   "metadata": {},
   "outputs": [],
   "source": []
  },
  {
   "cell_type": "code",
   "execution_count": null,
   "metadata": {},
   "outputs": [],
   "source": []
  }
 ],
 "metadata": {
  "kernelspec": {
   "display_name": "Python 3",
   "language": "python",
   "name": "python3"
  },
  "language_info": {
   "codemirror_mode": {
    "name": "ipython",
    "version": 3
   },
   "file_extension": ".py",
   "mimetype": "text/x-python",
   "name": "python",
   "nbconvert_exporter": "python",
   "pygments_lexer": "ipython3",
   "version": "3.7.4"
  }
 },
 "nbformat": 4,
 "nbformat_minor": 2
}
